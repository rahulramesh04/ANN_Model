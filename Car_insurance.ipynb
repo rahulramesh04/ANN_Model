{
  "nbformat": 4,
  "nbformat_minor": 0,
  "metadata": {
    "colab": {
      "provenance": [],
      "authorship_tag": "ABX9TyNPBvGjMWivIfo/sxK2HdE2",
      "include_colab_link": true
    },
    "kernelspec": {
      "name": "python3",
      "display_name": "Python 3"
    },
    "language_info": {
      "name": "python"
    }
  },
  "cells": [
    {
      "cell_type": "markdown",
      "metadata": {
        "id": "view-in-github",
        "colab_type": "text"
      },
      "source": [
        "<a href=\"https://colab.research.google.com/github/rahulramesh04/ANN_Model/blob/main/Car_insurance.ipynb\" target=\"_parent\"><img src=\"https://colab.research.google.com/assets/colab-badge.svg\" alt=\"Open In Colab\"/></a>"
      ]
    },
    {
      "cell_type": "code",
      "source": [
        "import pandas as pd\n",
        "from sklearn.model_selection import train_test_split\n",
        "from sklearn.preprocessing import StandardScaler, LabelEncoder\n",
        "from tensorflow.keras import layers, models"
      ],
      "metadata": {
        "id": "jBkd9lUOZvxJ"
      },
      "execution_count": null,
      "outputs": []
    },
    {
      "cell_type": "code",
      "source": [
        "data = pd.read_csv('/content/car_insurance_claim.csv')\n",
        "data = data.drop(['ID', 'BIRTH', 'RED_CAR'], axis=1)\n",
        "\n",
        "replace = ['INCOME','HOME_VAL', 'OLDCLAIM', 'CLM_AMT', 'BLUEBOOK' ]\n",
        "\n",
        "for i in replace:\n",
        "  data[i] = data[i].replace({'\\$': '', ',': ''}, regex=True).astype(float)\n",
        "\n",
        "label_encoder = LabelEncoder()\n",
        "categorical_columns = ['PARENT1', 'MSTATUS', 'GENDER', 'EDUCATION', 'OCCUPATION', 'CAR_USE', 'CAR_TYPE','REVOKED', 'URBANICITY']\n",
        "\n",
        "for j in categorical_columns:\n",
        "    data[j] = label_encoder.fit_transform(data[j])\n",
        "\n",
        "\n",
        "data = data.fillna(data.median())\n",
        "\n",
        "\n",
        "print(data.head(10))"
      ],
      "metadata": {
        "colab": {
          "base_uri": "https://localhost:8080/"
        },
        "id": "RzjP75aRSGY0",
        "outputId": "d95721ee-f004-450b-b6be-e972281aa4f2"
      },
      "execution_count": null,
      "outputs": [
        {
          "output_type": "stream",
          "name": "stdout",
          "text": [
            "   KIDSDRIV   AGE  HOMEKIDS   YOJ    INCOME  PARENT1  HOME_VAL  MSTATUS  \\\n",
            "0         0  60.0         0  11.0   67349.0        0       0.0        1   \n",
            "1         0  43.0         0  11.0   91449.0        0  257252.0        1   \n",
            "2         0  48.0         0  11.0   52881.0        0       0.0        1   \n",
            "3         0  35.0         1  10.0   16039.0        0  124191.0        0   \n",
            "4         0  51.0         0  14.0   53529.0        0  306251.0        0   \n",
            "5         0  50.0         0  11.0  114986.0        0  243925.0        0   \n",
            "6         0  34.0         1  12.0  125301.0        1       0.0        1   \n",
            "7         0  54.0         0  11.0   18755.0        0  160661.0        0   \n",
            "8         1  40.0         1  11.0   50815.0        1       0.0        1   \n",
            "9         0  44.0         2  12.0   43486.0        1       0.0        1   \n",
            "\n",
            "   GENDER  EDUCATION  ...  TIF  CAR_TYPE  OLDCLAIM  CLM_FREQ  REVOKED  \\\n",
            "0       0          3  ...   11         0    4461.0         2        0   \n",
            "1       0          4  ...    1         0       0.0         0        0   \n",
            "2       0          1  ...    1         4       0.0         0        0   \n",
            "3       1          4  ...    4         5   38690.0         2        0   \n",
            "4       0          0  ...    7         0       0.0         0        0   \n",
            "5       1          3  ...    1         5   19217.0         2        1   \n",
            "6       1          1  ...    1         3       0.0         0        0   \n",
            "7       1          0  ...    1         5       0.0         0        0   \n",
            "8       0          4  ...    6         0    3295.0         1        0   \n",
            "9       1          4  ...   10         5       0.0         0        0   \n",
            "\n",
            "   MVR_PTS  CLM_AMT  CAR_AGE  CLAIM_FLAG  URBANICITY  \n",
            "0        3      0.0     18.0           0           0  \n",
            "1        0      0.0      1.0           0           0  \n",
            "2        2      0.0     10.0           0           0  \n",
            "3        3      0.0     10.0           0           0  \n",
            "4        0      0.0      6.0           0           0  \n",
            "5        3      0.0     17.0           0           0  \n",
            "6        0   2946.0      7.0           1           0  \n",
            "7        0      0.0      1.0           0           0  \n",
            "8        2   6477.0      1.0           1           0  \n",
            "9        0      0.0     10.0           0           1  \n",
            "\n",
            "[10 rows x 24 columns]\n"
          ]
        }
      ]
    },
    {
      "cell_type": "code",
      "source": [
        "X = data.drop('CLAIM_FLAG', axis=1)\n",
        "y = data['CLAIM_FLAG']\n",
        "\n",
        "\n",
        "X_train, X_test, y_train, y_test = train_test_split(X, y, test_size=0.2, random_state=42)\n",
        "\n",
        "scaler = StandardScaler()\n",
        "X_train = scaler.fit_transform(X_train)\n",
        "X_test = scaler.transform(X_test)\n",
        "\n",
        "model = models.Sequential([\n",
        "    layers.Dense(64, activation='relu', input_shape=(X_train.shape[1],)),\n",
        "    layers.Dense(32, activation='relu'),\n",
        "    layers.Dense(1, activation='sigmoid')\n",
        "])\n",
        "\n",
        "\n",
        "model.compile(optimizer='adam', loss='binary_crossentropy', metrics=['accuracy'])\n",
        "\n",
        "\n",
        "model.fit(X_train, y_train, epochs=10, batch_size=32, validation_split=0.2)\n",
        "\n",
        "\n",
        "test_loss, test_acc = model.evaluate(X_test, y_test)\n",
        "print(f'Test accuracy: {test_acc:.2f}')\n",
        "\n",
        "\n",
        "y_pred = model.predict(X_test)\n",
        "y_pred = (y_pred > 0.5).astype(int)\n",
        "\n",
        "\n",
        "print(\"Predictions:\\n\", y_pred[:10])\n",
        "print(\"Actual values:\\n\", y_test[:10].values)\n"
      ],
      "metadata": {
        "colab": {
          "base_uri": "https://localhost:8080/"
        },
        "id": "pSnwXgu19tkE",
        "outputId": "3b7e61c4-bad9-4a4d-fa83-7a6508fbd3f9"
      },
      "execution_count": null,
      "outputs": [
        {
          "output_type": "stream",
          "name": "stdout",
          "text": [
            "Epoch 1/10\n"
          ]
        },
        {
          "output_type": "stream",
          "name": "stderr",
          "text": [
            "/usr/local/lib/python3.10/dist-packages/keras/src/layers/core/dense.py:87: UserWarning: Do not pass an `input_shape`/`input_dim` argument to a layer. When using Sequential models, prefer using an `Input(shape)` object as the first layer in the model instead.\n",
            "  super().__init__(activity_regularizer=activity_regularizer, **kwargs)\n"
          ]
        },
        {
          "output_type": "stream",
          "name": "stdout",
          "text": [
            "\u001b[1m206/206\u001b[0m \u001b[32m━━━━━━━━━━━━━━━━━━━━\u001b[0m\u001b[37m\u001b[0m \u001b[1m2s\u001b[0m 3ms/step - accuracy: 0.7567 - loss: 0.4841 - val_accuracy: 0.9394 - val_loss: 0.2006\n",
            "Epoch 2/10\n",
            "\u001b[1m206/206\u001b[0m \u001b[32m━━━━━━━━━━━━━━━━━━━━\u001b[0m\u001b[37m\u001b[0m \u001b[1m1s\u001b[0m 2ms/step - accuracy: 0.9492 - loss: 0.1608 - val_accuracy: 0.9751 - val_loss: 0.0768\n",
            "Epoch 3/10\n",
            "\u001b[1m206/206\u001b[0m \u001b[32m━━━━━━━━━━━━━━━━━━━━\u001b[0m\u001b[37m\u001b[0m \u001b[1m1s\u001b[0m 2ms/step - accuracy: 0.9759 - loss: 0.0707 - val_accuracy: 0.9861 - val_loss: 0.0486\n",
            "Epoch 4/10\n",
            "\u001b[1m206/206\u001b[0m \u001b[32m━━━━━━━━━━━━━━━━━━━━\u001b[0m\u001b[37m\u001b[0m \u001b[1m0s\u001b[0m 2ms/step - accuracy: 0.9857 - loss: 0.0430 - val_accuracy: 0.9867 - val_loss: 0.0391\n",
            "Epoch 5/10\n",
            "\u001b[1m206/206\u001b[0m \u001b[32m━━━━━━━━━━━━━━━━━━━━\u001b[0m\u001b[37m\u001b[0m \u001b[1m1s\u001b[0m 2ms/step - accuracy: 0.9920 - loss: 0.0290 - val_accuracy: 0.9921 - val_loss: 0.0281\n",
            "Epoch 6/10\n",
            "\u001b[1m206/206\u001b[0m \u001b[32m━━━━━━━━━━━━━━━━━━━━\u001b[0m\u001b[37m\u001b[0m \u001b[1m1s\u001b[0m 2ms/step - accuracy: 0.9930 - loss: 0.0217 - val_accuracy: 0.9915 - val_loss: 0.0240\n",
            "Epoch 7/10\n",
            "\u001b[1m206/206\u001b[0m \u001b[32m━━━━━━━━━━━━━━━━━━━━\u001b[0m\u001b[37m\u001b[0m \u001b[1m1s\u001b[0m 2ms/step - accuracy: 0.9960 - loss: 0.0137 - val_accuracy: 0.9927 - val_loss: 0.0212\n",
            "Epoch 8/10\n",
            "\u001b[1m206/206\u001b[0m \u001b[32m━━━━━━━━━━━━━━━━━━━━\u001b[0m\u001b[37m\u001b[0m \u001b[1m0s\u001b[0m 2ms/step - accuracy: 0.9962 - loss: 0.0126 - val_accuracy: 0.9945 - val_loss: 0.0199\n",
            "Epoch 9/10\n",
            "\u001b[1m206/206\u001b[0m \u001b[32m━━━━━━━━━━━━━━━━━━━━\u001b[0m\u001b[37m\u001b[0m \u001b[1m0s\u001b[0m 2ms/step - accuracy: 0.9969 - loss: 0.0083 - val_accuracy: 0.9939 - val_loss: 0.0179\n",
            "Epoch 10/10\n",
            "\u001b[1m206/206\u001b[0m \u001b[32m━━━━━━━━━━━━━━━━━━━━\u001b[0m\u001b[37m\u001b[0m \u001b[1m1s\u001b[0m 2ms/step - accuracy: 0.9981 - loss: 0.0078 - val_accuracy: 0.9951 - val_loss: 0.0169\n",
            "\u001b[1m65/65\u001b[0m \u001b[32m━━━━━━━━━━━━━━━━━━━━\u001b[0m\u001b[37m\u001b[0m \u001b[1m0s\u001b[0m 1ms/step - accuracy: 0.9923 - loss: 0.0206\n",
            "Test accuracy: 0.99\n",
            "\u001b[1m65/65\u001b[0m \u001b[32m━━━━━━━━━━━━━━━━━━━━\u001b[0m\u001b[37m\u001b[0m \u001b[1m0s\u001b[0m 2ms/step\n",
            "Predictions:\n",
            " [[0]\n",
            " [1]\n",
            " [0]\n",
            " [0]\n",
            " [1]\n",
            " [1]\n",
            " [0]\n",
            " [0]\n",
            " [0]\n",
            " [1]]\n",
            "Actual values:\n",
            " [0 1 0 0 1 1 0 0 0 1]\n"
          ]
        }
      ]
    }
  ]
}